{
 "cells": [
  {
   "cell_type": "code",
   "execution_count": 1,
   "id": "ca38c73d",
   "metadata": {},
   "outputs": [],
   "source": [
    "#Install the dependencies\n",
    "import pandas as pd\n",
    "import numpy as np \n",
    "from sklearn.tree import DecisionTreeRegressor\n",
    "from sklearn.model_selection import train_test_split\n",
    "from sklearn.model_selection import GridSearchCV\n",
    "# To plot\n",
    "import matplotlib.pyplot as plt\n",
    "plt.style.use('seaborn-darkgrid')\n",
    "import seaborn as sns\n",
    "from sklearn.metrics import accuracy_score\n",
    "# To ignore warnings\n",
    "import warnings\n",
    "warnings.filterwarnings(\"ignore\")"
   ]
  },
  {
   "cell_type": "code",
   "execution_count": 2,
   "id": "9151d73c",
   "metadata": {},
   "outputs": [
    {
     "data": {
      "text/html": [
       "<div>\n",
       "<style scoped>\n",
       "    .dataframe tbody tr th:only-of-type {\n",
       "        vertical-align: middle;\n",
       "    }\n",
       "\n",
       "    .dataframe tbody tr th {\n",
       "        vertical-align: top;\n",
       "    }\n",
       "\n",
       "    .dataframe thead th {\n",
       "        text-align: right;\n",
       "    }\n",
       "</style>\n",
       "<table border=\"1\" class=\"dataframe\">\n",
       "  <thead>\n",
       "    <tr style=\"text-align: right;\">\n",
       "      <th></th>\n",
       "      <th>Open</th>\n",
       "      <th>High</th>\n",
       "      <th>Low</th>\n",
       "      <th>Volume</th>\n",
       "    </tr>\n",
       "  </thead>\n",
       "  <tbody>\n",
       "    <tr>\n",
       "      <th>0</th>\n",
       "      <td>75.430000</td>\n",
       "      <td>75.910004</td>\n",
       "      <td>75.139999</td>\n",
       "      <td>3436700.0</td>\n",
       "    </tr>\n",
       "    <tr>\n",
       "      <th>1</th>\n",
       "      <td>124.930000</td>\n",
       "      <td>124.940002</td>\n",
       "      <td>124.169998</td>\n",
       "      <td>2366700.0</td>\n",
       "    </tr>\n",
       "    <tr>\n",
       "      <th>2</th>\n",
       "      <td>84.339996</td>\n",
       "      <td>84.370003</td>\n",
       "      <td>82.370003</td>\n",
       "      <td>11338700.0</td>\n",
       "    </tr>\n",
       "    <tr>\n",
       "      <th>3</th>\n",
       "      <td>56.770000</td>\n",
       "      <td>57.150002</td>\n",
       "      <td>56.529999</td>\n",
       "      <td>413300.0</td>\n",
       "    </tr>\n",
       "    <tr>\n",
       "      <th>4</th>\n",
       "      <td>47.419998</td>\n",
       "      <td>48.090000</td>\n",
       "      <td>46.759998</td>\n",
       "      <td>9531100.0</td>\n",
       "    </tr>\n",
       "    <tr>\n",
       "      <th>...</th>\n",
       "      <td>...</td>\n",
       "      <td>...</td>\n",
       "      <td>...</td>\n",
       "      <td>...</td>\n",
       "    </tr>\n",
       "    <tr>\n",
       "      <th>97727</th>\n",
       "      <td>103.650002</td>\n",
       "      <td>103.809998</td>\n",
       "      <td>103.089996</td>\n",
       "      <td>3678200.0</td>\n",
       "    </tr>\n",
       "    <tr>\n",
       "      <th>97728</th>\n",
       "      <td>64.419998</td>\n",
       "      <td>64.730003</td>\n",
       "      <td>64.190002</td>\n",
       "      <td>20273100.0</td>\n",
       "    </tr>\n",
       "    <tr>\n",
       "      <th>97729</th>\n",
       "      <td>581.070007</td>\n",
       "      <td>581.400024</td>\n",
       "      <td>571.070007</td>\n",
       "      <td>3416500.0</td>\n",
       "    </tr>\n",
       "    <tr>\n",
       "      <th>97730</th>\n",
       "      <td>120.650002</td>\n",
       "      <td>120.650002</td>\n",
       "      <td>114.959999</td>\n",
       "      <td>13261700.0</td>\n",
       "    </tr>\n",
       "    <tr>\n",
       "      <th>97731</th>\n",
       "      <td>64.870003</td>\n",
       "      <td>64.959999</td>\n",
       "      <td>64.309998</td>\n",
       "      <td>667000.0</td>\n",
       "    </tr>\n",
       "  </tbody>\n",
       "</table>\n",
       "<p>97732 rows × 4 columns</p>\n",
       "</div>"
      ],
      "text/plain": [
       "             Open        High         Low      Volume\n",
       "0       75.430000   75.910004   75.139999   3436700.0\n",
       "1      124.930000  124.940002  124.169998   2366700.0\n",
       "2       84.339996   84.370003   82.370003  11338700.0\n",
       "3       56.770000   57.150002   56.529999    413300.0\n",
       "4       47.419998   48.090000   46.759998   9531100.0\n",
       "...           ...         ...         ...         ...\n",
       "97727  103.650002  103.809998  103.089996   3678200.0\n",
       "97728   64.419998   64.730003   64.190002  20273100.0\n",
       "97729  581.070007  581.400024  571.070007   3416500.0\n",
       "97730  120.650002  120.650002  114.959999  13261700.0\n",
       "97731   64.870003   64.959999   64.309998    667000.0\n",
       "\n",
       "[97732 rows x 4 columns]"
      ]
     },
     "execution_count": 2,
     "metadata": {},
     "output_type": "execute_result"
    }
   ],
   "source": [
    "#importing datasets  \n",
    "dfx= pd.read_csv('Downloads/stocknet_trn_data (1).csv')  \n",
    "dfx"
   ]
  },
  {
   "cell_type": "code",
   "execution_count": 3,
   "id": "ec67603b",
   "metadata": {},
   "outputs": [
    {
     "data": {
      "text/html": [
       "<div>\n",
       "<style scoped>\n",
       "    .dataframe tbody tr th:only-of-type {\n",
       "        vertical-align: middle;\n",
       "    }\n",
       "\n",
       "    .dataframe tbody tr th {\n",
       "        vertical-align: top;\n",
       "    }\n",
       "\n",
       "    .dataframe thead th {\n",
       "        text-align: right;\n",
       "    }\n",
       "</style>\n",
       "<table border=\"1\" class=\"dataframe\">\n",
       "  <thead>\n",
       "    <tr style=\"text-align: right;\">\n",
       "      <th></th>\n",
       "      <th>0</th>\n",
       "      <th>Close</th>\n",
       "    </tr>\n",
       "  </thead>\n",
       "  <tbody>\n",
       "    <tr>\n",
       "      <th>0</th>\n",
       "      <td>d1</td>\n",
       "      <td>75.650002</td>\n",
       "    </tr>\n",
       "    <tr>\n",
       "      <th>1</th>\n",
       "      <td>d2</td>\n",
       "      <td>124.449997</td>\n",
       "    </tr>\n",
       "    <tr>\n",
       "      <th>2</th>\n",
       "      <td>d3</td>\n",
       "      <td>82.660004</td>\n",
       "    </tr>\n",
       "    <tr>\n",
       "      <th>3</th>\n",
       "      <td>d4</td>\n",
       "      <td>57.009998</td>\n",
       "    </tr>\n",
       "    <tr>\n",
       "      <th>4</th>\n",
       "      <td>d5</td>\n",
       "      <td>47.860001</td>\n",
       "    </tr>\n",
       "    <tr>\n",
       "      <th>...</th>\n",
       "      <td>...</td>\n",
       "      <td>...</td>\n",
       "    </tr>\n",
       "    <tr>\n",
       "      <th>97727</th>\n",
       "      <td>d97728</td>\n",
       "      <td>103.230003</td>\n",
       "    </tr>\n",
       "    <tr>\n",
       "      <th>97728</th>\n",
       "      <td>d97729</td>\n",
       "      <td>64.620003</td>\n",
       "    </tr>\n",
       "    <tr>\n",
       "      <th>97729</th>\n",
       "      <td>d97730</td>\n",
       "      <td>575.140015</td>\n",
       "    </tr>\n",
       "    <tr>\n",
       "      <th>97730</th>\n",
       "      <td>d97731</td>\n",
       "      <td>115.400002</td>\n",
       "    </tr>\n",
       "    <tr>\n",
       "      <th>97731</th>\n",
       "      <td>d97732</td>\n",
       "      <td>64.720001</td>\n",
       "    </tr>\n",
       "  </tbody>\n",
       "</table>\n",
       "<p>97732 rows × 2 columns</p>\n",
       "</div>"
      ],
      "text/plain": [
       "            0       Close\n",
       "0          d1   75.650002\n",
       "1          d2  124.449997\n",
       "2          d3   82.660004\n",
       "3          d4   57.009998\n",
       "4          d5   47.860001\n",
       "...       ...         ...\n",
       "97727  d97728  103.230003\n",
       "97728  d97729   64.620003\n",
       "97729  d97730  575.140015\n",
       "97730  d97731  115.400002\n",
       "97731  d97732   64.720001\n",
       "\n",
       "[97732 rows x 2 columns]"
      ]
     },
     "execution_count": 3,
     "metadata": {},
     "output_type": "execute_result"
    }
   ],
   "source": [
    "dfy=pd.read_csv('Downloads/stocknet_trn_data_targets (1).csv',header=None)\n",
    "dfy = dfy.rename(columns ={1:\"Close\"}) # renaming column 1 as 'Close'\n",
    "\n",
    "dfy"
   ]
  },
  {
   "cell_type": "code",
   "execution_count": 4,
   "id": "9516cd3a",
   "metadata": {},
   "outputs": [
    {
     "name": "stdout",
     "output_type": "stream",
     "text": [
      "<class 'pandas.core.frame.DataFrame'>\n",
      "RangeIndex: 97732 entries, 0 to 97731\n",
      "Data columns (total 4 columns):\n",
      " #   Column  Non-Null Count  Dtype  \n",
      "---  ------  --------------  -----  \n",
      " 0   Open    97729 non-null  float64\n",
      " 1   High    97729 non-null  float64\n",
      " 2   Low     97729 non-null  float64\n",
      " 3   Volume  97729 non-null  float64\n",
      "dtypes: float64(4)\n",
      "memory usage: 3.0 MB\n"
     ]
    }
   ],
   "source": [
    "dfx.info()"
   ]
  },
  {
   "cell_type": "code",
   "execution_count": 5,
   "id": "c8058674",
   "metadata": {},
   "outputs": [
    {
     "name": "stdout",
     "output_type": "stream",
     "text": [
      "<class 'pandas.core.frame.DataFrame'>\n",
      "RangeIndex: 97732 entries, 0 to 97731\n",
      "Data columns (total 2 columns):\n",
      " #   Column  Non-Null Count  Dtype  \n",
      "---  ------  --------------  -----  \n",
      " 0   0       97732 non-null  object \n",
      " 1   Close   97729 non-null  float64\n",
      "dtypes: float64(1), object(1)\n",
      "memory usage: 1.5+ MB\n"
     ]
    }
   ],
   "source": [
    "dfy.info()"
   ]
  },
  {
   "cell_type": "code",
   "execution_count": 6,
   "id": "3fe7f5d2",
   "metadata": {},
   "outputs": [],
   "source": [
    "#Replacing null values with respective mean of their columns\n",
    "\n",
    "# df1=dfx\n",
    "# df2=dfy\n",
    "\n",
    "# df1['Open'].fillna(int(df1['Open'].mean()), inplace = True)\n",
    "# df1['High'].fillna(int(df1['High'].mean()), inplace = True)\n",
    "# df1['Low'].fillna(int(df1['Low'].mean()), inplace = True)\n",
    "# df1['Volume'].fillna(int(df1['Volume'].mean()), inplace = True)\n",
    "\n",
    "# df2['Close'].fillna(int(df2['Close'].mean()), inplace = True"
   ]
  },
  {
   "cell_type": "markdown",
   "id": "0f92f51e",
   "metadata": {},
   "source": [
    "### we are getting more efficient results by removing the null values rather than replacing them with mean."
   ]
  },
  {
   "cell_type": "code",
   "execution_count": 7,
   "id": "7e95acef",
   "metadata": {},
   "outputs": [],
   "source": [
    "dfx=dfx.dropna()"
   ]
  },
  {
   "cell_type": "code",
   "execution_count": 8,
   "id": "f49ece16",
   "metadata": {},
   "outputs": [],
   "source": [
    "dfy=dfy.dropna()"
   ]
  },
  {
   "cell_type": "code",
   "execution_count": 9,
   "id": "a56d0218",
   "metadata": {},
   "outputs": [
    {
     "data": {
      "image/png": "[encoded data removed]",
      "text/plain": [
       "<Figure size 432x288 with 1 Axes>"
      ]
     },
     "metadata": {},
     "output_type": "display_data"
    }
   ],
   "source": [
    "# Extract only top 60 rows to make the plot a little clearer\n",
    "new_dfy = dfy.head(1000)\n",
    "new_new = pd.DataFrame()\n",
    "new_new['Close'] = [new_dfy['Close'][i] if new_dfy['Close'][i] <=500 else 250 for i in range(len(new_dfy))]\n",
    "#  Plotting the close  market stock price\n",
    "new_new['Close'].plot(kind = 'line',color=\"green\")\n",
    " \n",
    "plt.show()"
   ]
  },
  {
   "cell_type": "markdown",
   "id": "93738e67",
   "metadata": {},
   "source": [
    "### Linear Regression"
   ]
  },
  {
   "cell_type": "code",
   "execution_count": 10,
   "id": "626be4d0",
   "metadata": {},
   "outputs": [],
   "source": [
    "# Split the data into train and test with 70 & 30 % respectively\n",
    "X_train, X_test, y_train, y_test = train_test_split(dfx,dfy['Close'],test_size=0.3,random_state = 0)"
   ]
  },
  {
   "cell_type": "code",
   "execution_count": 11,
   "id": "492a9bbf",
   "metadata": {},
   "outputs": [
    {
     "data": {
      "text/plain": [
       "LinearRegression()"
      ]
     },
     "execution_count": 11,
     "metadata": {},
     "output_type": "execute_result"
    }
   ],
   "source": [
    "# Fitting the model\n",
    "from sklearn.linear_model import LinearRegression\n",
    "LR = LinearRegression()\n",
    "LR.fit(X_train,y_train)"
   ]
  },
  {
   "cell_type": "code",
   "execution_count": 12,
   "id": "2a618143",
   "metadata": {},
   "outputs": [
    {
     "data": {
      "text/plain": [
       "0.9999902566632185"
      ]
     },
     "execution_count": 12,
     "metadata": {},
     "output_type": "execute_result"
    }
   ],
   "source": [
    "#Return the coefficient of determination of the prediction.\n",
    "LR.score(X_test,y_test,sample_weight=None)"
   ]
  },
  {
   "cell_type": "code",
   "execution_count": 13,
   "id": "553365cb",
   "metadata": {},
   "outputs": [
    {
     "data": {
      "text/plain": [
       "{'copy_X': True,\n",
       " 'fit_intercept': True,\n",
       " 'n_jobs': None,\n",
       " 'normalize': False,\n",
       " 'positive': False}"
      ]
     },
     "execution_count": 13,
     "metadata": {},
     "output_type": "execute_result"
    }
   ],
   "source": [
    "parameters=LR.get_params(deep=True) # Get parameters for this estimator.\n",
    "parameters"
   ]
  },
  {
   "cell_type": "code",
   "execution_count": 14,
   "id": "48047ca7",
   "metadata": {},
   "outputs": [
    {
     "data": {
      "text/plain": [
       "array([ 51.28607304, 133.91661024,  54.43706548, ...,  68.8344836 ,\n",
       "       146.84901847, 101.75097018])"
      ]
     },
     "execution_count": 14,
     "metadata": {},
     "output_type": "execute_result"
    }
   ],
   "source": [
    "pred=LR.predict(X_test) #Predict using the linear model.\n",
    "pred"
   ]
  },
  {
   "cell_type": "code",
   "execution_count": 15,
   "id": "2efe68a7",
   "metadata": {},
   "outputs": [
    {
     "data": {
      "text/plain": [
       "<matplotlib.collections.PathCollection at 0x1b617a0aee0>"
      ]
     },
     "execution_count": 15,
     "metadata": {},
     "output_type": "execute_result"
    },
    {
     "data": {
      "image/png": "[encoded data removed]",
      "text/plain": [
       "<Figure size 432x288 with 1 Axes>"
      ]
     },
     "metadata": {},
     "output_type": "display_data"
    }
   ],
   "source": [
    "#checking predicted y and labeled y using a scatter plot.\n",
    "plt.scatter(y_test,pred)"
   ]
  },
  {
   "cell_type": "code",
   "execution_count": 16,
   "id": "92e8906a",
   "metadata": {},
   "outputs": [
    {
     "name": "stdout",
     "output_type": "stream",
     "text": [
      "Model Coefficients: [-5.70049320e-01  8.09631058e-01  7.60573883e-01  2.57749043e-10]\n",
      "Mean Squared Error: 4597.640621501371\n",
      "Mean Absolute Error: 5.681927784516371\n",
      "Root Mean Squared Error: 67.80590403129635\n",
      "R_squared Value: 0.9999902566632185\n"
     ]
    }
   ],
   "source": [
    "from sklearn.metrics import mean_squared_error, r2_score, mean_absolute_error\n",
    "import math as math\n",
    "print('Model Coefficients:', LR.coef_)\n",
    "print('Mean Squared Error:', mean_squared_error(y_test, pred))\n",
    "print('Mean Absolute Error:', mean_absolute_error(y_test, pred))\n",
    "print('Root Mean Squared Error:', math.sqrt(mean_squared_error(y_test, pred)))\n",
    "print('R_squared Value:', r2_score(y_test, pred))"
   ]
  },
  {
   "cell_type": "code",
   "execution_count": 17,
   "id": "258b8887",
   "metadata": {},
   "outputs": [
    {
     "data": {
      "text/html": [
       "<div>\n",
       "<style scoped>\n",
       "    .dataframe tbody tr th:only-of-type {\n",
       "        vertical-align: middle;\n",
       "    }\n",
       "\n",
       "    .dataframe tbody tr th {\n",
       "        vertical-align: top;\n",
       "    }\n",
       "\n",
       "    .dataframe thead th {\n",
       "        text-align: right;\n",
       "    }\n",
       "</style>\n",
       "<table border=\"1\" class=\"dataframe\">\n",
       "  <thead>\n",
       "    <tr style=\"text-align: right;\">\n",
       "      <th></th>\n",
       "      <th>Open</th>\n",
       "      <th>High</th>\n",
       "      <th>Low</th>\n",
       "      <th>Volume</th>\n",
       "    </tr>\n",
       "  </thead>\n",
       "  <tbody>\n",
       "    <tr>\n",
       "      <th>0</th>\n",
       "      <td>26.299999</td>\n",
       "      <td>26.520000</td>\n",
       "      <td>25.959999</td>\n",
       "      <td>32642100</td>\n",
       "    </tr>\n",
       "    <tr>\n",
       "      <th>1</th>\n",
       "      <td>95.550003</td>\n",
       "      <td>95.739998</td>\n",
       "      <td>94.019997</td>\n",
       "      <td>1826300</td>\n",
       "    </tr>\n",
       "    <tr>\n",
       "      <th>2</th>\n",
       "      <td>54.770000</td>\n",
       "      <td>55.360001</td>\n",
       "      <td>54.590000</td>\n",
       "      <td>5656800</td>\n",
       "    </tr>\n",
       "    <tr>\n",
       "      <th>3</th>\n",
       "      <td>125.589996</td>\n",
       "      <td>125.820000</td>\n",
       "      <td>123.660004</td>\n",
       "      <td>4151600</td>\n",
       "    </tr>\n",
       "    <tr>\n",
       "      <th>4</th>\n",
       "      <td>20.709999</td>\n",
       "      <td>20.809999</td>\n",
       "      <td>20.670000</td>\n",
       "      <td>10489800</td>\n",
       "    </tr>\n",
       "    <tr>\n",
       "      <th>...</th>\n",
       "      <td>...</td>\n",
       "      <td>...</td>\n",
       "      <td>...</td>\n",
       "      <td>...</td>\n",
       "    </tr>\n",
       "    <tr>\n",
       "      <th>10855</th>\n",
       "      <td>51.660000</td>\n",
       "      <td>52.919998</td>\n",
       "      <td>49.919998</td>\n",
       "      <td>87000</td>\n",
       "    </tr>\n",
       "    <tr>\n",
       "      <th>10856</th>\n",
       "      <td>39.549999</td>\n",
       "      <td>40.619999</td>\n",
       "      <td>39.189999</td>\n",
       "      <td>35177200</td>\n",
       "    </tr>\n",
       "    <tr>\n",
       "      <th>10857</th>\n",
       "      <td>22.780001</td>\n",
       "      <td>22.900000</td>\n",
       "      <td>22.389999</td>\n",
       "      <td>9404100</td>\n",
       "    </tr>\n",
       "    <tr>\n",
       "      <th>10858</th>\n",
       "      <td>33.750000</td>\n",
       "      <td>34.060001</td>\n",
       "      <td>33.580002</td>\n",
       "      <td>26179000</td>\n",
       "    </tr>\n",
       "    <tr>\n",
       "      <th>10859</th>\n",
       "      <td>91.010002</td>\n",
       "      <td>91.680000</td>\n",
       "      <td>89.970001</td>\n",
       "      <td>4675300</td>\n",
       "    </tr>\n",
       "  </tbody>\n",
       "</table>\n",
       "<p>10860 rows × 4 columns</p>\n",
       "</div>"
      ],
      "text/plain": [
       "             Open        High         Low    Volume\n",
       "0       26.299999   26.520000   25.959999  32642100\n",
       "1       95.550003   95.739998   94.019997   1826300\n",
       "2       54.770000   55.360001   54.590000   5656800\n",
       "3      125.589996  125.820000  123.660004   4151600\n",
       "4       20.709999   20.809999   20.670000  10489800\n",
       "...           ...         ...         ...       ...\n",
       "10855   51.660000   52.919998   49.919998     87000\n",
       "10856   39.549999   40.619999   39.189999  35177200\n",
       "10857   22.780001   22.900000   22.389999   9404100\n",
       "10858   33.750000   34.060001   33.580002  26179000\n",
       "10859   91.010002   91.680000   89.970001   4675300\n",
       "\n",
       "[10860 rows x 4 columns]"
      ]
     },
     "execution_count": 17,
     "metadata": {},
     "output_type": "execute_result"
    }
   ],
   "source": [
    "import pandas as pd\n",
    "Final = pd.read_csv(\"Downloads/stocknet_tst_data.csv\") \n",
    "Final"
   ]
  },
  {
   "cell_type": "code",
   "execution_count": 18,
   "id": "28533cb4",
   "metadata": {},
   "outputs": [
    {
     "data": {
      "text/plain": [
       "array([26.2082638 , 94.53172052, 55.0969952 , ..., 22.5627335 ,\n",
       "       33.85992419, 90.75305767])"
      ]
     },
     "execution_count": 18,
     "metadata": {},
     "output_type": "execute_result"
    }
   ],
   "source": [
    "predictions = LR.predict(Final)\n",
    "predictions"
   ]
  },
  {
   "cell_type": "code",
   "execution_count": 19,
   "id": "45639f29",
   "metadata": {},
   "outputs": [],
   "source": [
    "np.savetxt(\"project_predicted_labels_19274.txt\",predictions , delimiter=\"\\n\", fmt=\"%.6f\")"
   ]
  },
  {
   "cell_type": "markdown",
   "id": "519d765d",
   "metadata": {},
   "source": [
    "### Decision Tree Regressor"
   ]
  },
  {
   "cell_type": "code",
   "execution_count": 20,
   "id": "73a443a3",
   "metadata": {},
   "outputs": [
    {
     "name": "stdout",
     "output_type": "stream",
     "text": [
      "0.9999694191374413\n"
     ]
    }
   ],
   "source": [
    "from sklearn.tree import DecisionTreeRegressor\n",
    "\n",
    "dtr = DecisionTreeRegressor(random_state = 1)\n",
    "dtr.fit(X_train,y_train)\n",
    "print(dtr.score(X_test,y_test))"
   ]
  },
  {
   "cell_type": "code",
   "execution_count": 21,
   "id": "24762a61",
   "metadata": {},
   "outputs": [],
   "source": [
    "# Decision Tree Model Evaluation"
   ]
  },
  {
   "cell_type": "code",
   "execution_count": 22,
   "id": "d6cbc3c2",
   "metadata": {},
   "outputs": [],
   "source": [
    "prediction=dtr.predict(X_test)"
   ]
  },
  {
   "cell_type": "code",
   "execution_count": 23,
   "id": "98d6c230",
   "metadata": {},
   "outputs": [
    {
     "data": {
      "text/plain": [
       "<matplotlib.collections.PathCollection at 0x1b617a9b370>"
      ]
     },
     "execution_count": 23,
     "metadata": {},
     "output_type": "execute_result"
    },
    {
     "data": {
      "image/png": "[encoded data removed]",
      "text/plain": [
       "<Figure size 432x288 with 1 Axes>"
      ]
     },
     "metadata": {},
     "output_type": "display_data"
    }
   ],
   "source": [
    "#checking predicted y and labeled y using a scatter plot.\n",
    "plt.scatter(y_test,prediction)"
   ]
  },
  {
   "cell_type": "code",
   "execution_count": 24,
   "id": "9e919780",
   "metadata": {},
   "outputs": [],
   "source": [
    "#Hyper Parameter tuning\n",
    "parameters={\"splitter\":[\"best\",\"random\"],\n",
    "            \"max_depth\" : [1,5],\n",
    "           \"min_samples_leaf\":[1,2,3,4,5,6,7,8,9,10],\n",
    "           \"max_features\":[\"auto\",\"log2\",\"sqrt\"], #auto and None work the same\n",
    "           \"max_leaf_nodes\":[None,10,20,30,40] }"
   ]
  },
  {
   "cell_type": "code",
   "execution_count": 25,
   "id": "b3185ad8",
   "metadata": {},
   "outputs": [
    {
     "name": "stdout",
     "output_type": "stream",
     "text": [
      "{'max_depth': 5, 'max_features': 'log2', 'max_leaf_nodes': None, 'min_samples_leaf': 1, 'splitter': 'best'}\n",
      "0.999860817275625\n"
     ]
    }
   ],
   "source": [
    "from sklearn.model_selection import GridSearchCV\n",
    "tuning_model=GridSearchCV(dtr,param_grid=parameters,scoring='neg_mean_squared_error',cv=3,verbose=0)\n",
    "tuning_model.fit(X_train,y_train)\n",
    "\n",
    "print(tuning_model.best_params_)\n",
    "print(tuning_model.best_estimator_.score(X_test,y_test))"
   ]
  },
  {
   "cell_type": "code",
   "execution_count": 26,
   "id": "cbb039f0",
   "metadata": {},
   "outputs": [
    {
     "name": "stdout",
     "output_type": "stream",
     "text": [
      "RMSE value for k= is: 120.12641570107218\n",
      "Mean absolute error: 10.23094469784099\n",
      "R2 score: 0.9999694191374413\n"
     ]
    }
   ],
   "source": [
    "import math\n",
    "from sklearn.metrics import mean_squared_error\n",
    "from sklearn.metrics import mean_absolute_error\n",
    "from sklearn.metrics import r2_score\n",
    "\n",
    "pred=dtr.predict(X_test) #make prediction on test set \n",
    "rmse = math.sqrt(mean_squared_error(y_test,pred))\n",
    "mae = mean_absolute_error(y_test,pred)\n",
    "r2 = r2_score(y_test,pred)\n",
    "\n",
    "# rmse_val.append(rmse) #store rmse values \n",
    "print ('RMSE value for k=','is:' ,rmse) \n",
    "print('Mean absolute error:', mae) \n",
    "print('R2 score:', r2)"
   ]
  },
  {
   "cell_type": "code",
   "execution_count": 27,
   "id": "3e28ed12",
   "metadata": {},
   "outputs": [
    {
     "data": {
      "text/html": [
       "<div>\n",
       "<style scoped>\n",
       "    .dataframe tbody tr th:only-of-type {\n",
       "        vertical-align: middle;\n",
       "    }\n",
       "\n",
       "    .dataframe tbody tr th {\n",
       "        vertical-align: top;\n",
       "    }\n",
       "\n",
       "    .dataframe thead th {\n",
       "        text-align: right;\n",
       "    }\n",
       "</style>\n",
       "<table border=\"1\" class=\"dataframe\">\n",
       "  <thead>\n",
       "    <tr style=\"text-align: right;\">\n",
       "      <th></th>\n",
       "      <th>Open</th>\n",
       "      <th>High</th>\n",
       "      <th>Low</th>\n",
       "      <th>Volume</th>\n",
       "    </tr>\n",
       "  </thead>\n",
       "  <tbody>\n",
       "    <tr>\n",
       "      <th>0</th>\n",
       "      <td>26.299999</td>\n",
       "      <td>26.520000</td>\n",
       "      <td>25.959999</td>\n",
       "      <td>32642100</td>\n",
       "    </tr>\n",
       "    <tr>\n",
       "      <th>1</th>\n",
       "      <td>95.550003</td>\n",
       "      <td>95.739998</td>\n",
       "      <td>94.019997</td>\n",
       "      <td>1826300</td>\n",
       "    </tr>\n",
       "    <tr>\n",
       "      <th>2</th>\n",
       "      <td>54.770000</td>\n",
       "      <td>55.360001</td>\n",
       "      <td>54.590000</td>\n",
       "      <td>5656800</td>\n",
       "    </tr>\n",
       "    <tr>\n",
       "      <th>3</th>\n",
       "      <td>125.589996</td>\n",
       "      <td>125.820000</td>\n",
       "      <td>123.660004</td>\n",
       "      <td>4151600</td>\n",
       "    </tr>\n",
       "    <tr>\n",
       "      <th>4</th>\n",
       "      <td>20.709999</td>\n",
       "      <td>20.809999</td>\n",
       "      <td>20.670000</td>\n",
       "      <td>10489800</td>\n",
       "    </tr>\n",
       "    <tr>\n",
       "      <th>...</th>\n",
       "      <td>...</td>\n",
       "      <td>...</td>\n",
       "      <td>...</td>\n",
       "      <td>...</td>\n",
       "    </tr>\n",
       "    <tr>\n",
       "      <th>10855</th>\n",
       "      <td>51.660000</td>\n",
       "      <td>52.919998</td>\n",
       "      <td>49.919998</td>\n",
       "      <td>87000</td>\n",
       "    </tr>\n",
       "    <tr>\n",
       "      <th>10856</th>\n",
       "      <td>39.549999</td>\n",
       "      <td>40.619999</td>\n",
       "      <td>39.189999</td>\n",
       "      <td>35177200</td>\n",
       "    </tr>\n",
       "    <tr>\n",
       "      <th>10857</th>\n",
       "      <td>22.780001</td>\n",
       "      <td>22.900000</td>\n",
       "      <td>22.389999</td>\n",
       "      <td>9404100</td>\n",
       "    </tr>\n",
       "    <tr>\n",
       "      <th>10858</th>\n",
       "      <td>33.750000</td>\n",
       "      <td>34.060001</td>\n",
       "      <td>33.580002</td>\n",
       "      <td>26179000</td>\n",
       "    </tr>\n",
       "    <tr>\n",
       "      <th>10859</th>\n",
       "      <td>91.010002</td>\n",
       "      <td>91.680000</td>\n",
       "      <td>89.970001</td>\n",
       "      <td>4675300</td>\n",
       "    </tr>\n",
       "  </tbody>\n",
       "</table>\n",
       "<p>10860 rows × 4 columns</p>\n",
       "</div>"
      ],
      "text/plain": [
       "             Open        High         Low    Volume\n",
       "0       26.299999   26.520000   25.959999  32642100\n",
       "1       95.550003   95.739998   94.019997   1826300\n",
       "2       54.770000   55.360001   54.590000   5656800\n",
       "3      125.589996  125.820000  123.660004   4151600\n",
       "4       20.709999   20.809999   20.670000  10489800\n",
       "...           ...         ...         ...       ...\n",
       "10855   51.660000   52.919998   49.919998     87000\n",
       "10856   39.549999   40.619999   39.189999  35177200\n",
       "10857   22.780001   22.900000   22.389999   9404100\n",
       "10858   33.750000   34.060001   33.580002  26179000\n",
       "10859   91.010002   91.680000   89.970001   4675300\n",
       "\n",
       "[10860 rows x 4 columns]"
      ]
     },
     "execution_count": 27,
     "metadata": {},
     "output_type": "execute_result"
    }
   ],
   "source": [
    "import pandas as pd\n",
    "dtr_Final = pd.read_csv(\"Downloads/stocknet_tst_data.csv\") \n",
    "dtr_Final"
   ]
  },
  {
   "cell_type": "code",
   "execution_count": 28,
   "id": "db061825",
   "metadata": {},
   "outputs": [
    {
     "data": {
      "text/plain": [
       "array([ 21.07854944, 109.45644354,  61.43180596, ...,  21.07854944,\n",
       "        42.26887446,  80.70821937])"
      ]
     },
     "execution_count": 28,
     "metadata": {},
     "output_type": "execute_result"
    }
   ],
   "source": [
    "predictions_dtr = tuning_model.predict(dtr_Final)\n",
    "predictions_dtr"
   ]
  },
  {
   "cell_type": "code",
   "execution_count": 29,
   "id": "05a9483f",
   "metadata": {},
   "outputs": [],
   "source": [
    "np.savetxt(\"project_predicted_labels_dtr.txt\",predictions_dtr, delimiter=\"\\n\", fmt=\"%.6f\")"
   ]
  },
  {
   "cell_type": "markdown",
   "id": "16fbee9a",
   "metadata": {},
   "source": [
    "### Support Vector Regressor(SVR)"
   ]
  },
  {
   "cell_type": "code",
   "execution_count": 30,
   "id": "bb9afd65",
   "metadata": {},
   "outputs": [
    {
     "data": {
      "image/png": "[encoded data removed]",
      "text/plain": [
       "<Figure size 1440x576 with 1 Axes>"
      ]
     },
     "metadata": {},
     "output_type": "display_data"
    }
   ],
   "source": [
    "from sklearn.preprocessing import StandardScaler,MinMaxScaler\n",
    "scaled = MinMaxScaler().fit_transform(dfx)\n",
    "dfx = pd.DataFrame(scaled,columns = dfx.columns)\n",
    "\n",
    "scaled = MinMaxScaler().fit_transform(dfy['Close'].values.reshape(-1,1))\n",
    "dfy = pd.DataFrame(scaled,columns = ['Close'])\n",
    "ax = plt.figure(figsize=(20,8))\n",
    "plt.plot(dfy)\n",
    "plt.show()"
   ]
  },
  {
   "cell_type": "code",
   "execution_count": 31,
   "id": "d2d80381",
   "metadata": {},
   "outputs": [],
   "source": [
    "# Split the data into train and test with 80 & 20 % respectively\n",
    "X_train, X_test, y_train, y_test = train_test_split(dfx,dfy['Close'],test_size=0.2)"
   ]
  },
  {
   "cell_type": "code",
   "execution_count": 32,
   "id": "13f00995",
   "metadata": {},
   "outputs": [
    {
     "data": {
      "text/plain": [
       "SVR(C=1000.0, gamma=0.1)"
      ]
     },
     "execution_count": 32,
     "metadata": {},
     "output_type": "execute_result"
    }
   ],
   "source": [
    "\n",
    "from sklearn.svm import SVR\n",
    "# SVM Model\n",
    "svr = SVR(kernel='rbf', C=1e3, gamma=0.1)\n",
    "# Train the model \n",
    "svr.fit(X_train, y_train)\n"
   ]
  },
  {
   "cell_type": "code",
   "execution_count": 33,
   "id": "2b19c0bf",
   "metadata": {},
   "outputs": [],
   "source": [
    "prediction = svr.predict(X_test)"
   ]
  },
  {
   "cell_type": "code",
   "execution_count": 34,
   "id": "11d70ec8",
   "metadata": {},
   "outputs": [],
   "source": [
    "from sklearn.metrics import mean_squared_error,mean_absolute_error"
   ]
  },
  {
   "cell_type": "code",
   "execution_count": 35,
   "id": "bb0a07b4",
   "metadata": {},
   "outputs": [
    {
     "name": "stdout",
     "output_type": "stream",
     "text": [
      "MSE 0.00975696521831617\n",
      "MAE 0.09853812451153661\n"
     ]
    }
   ],
   "source": [
    "# The best possible score is 1.0\n",
    "# svm_confidence = svr.score(y_test,prediction)\n",
    "svr_mse = mean_squared_error(y_test,prediction)\n",
    "svr_mae = mean_absolute_error(y_test,prediction)\n",
    "# print(\"svm confidence:\", svm_confidence)\n",
    "print('MSE',svr_mse)\n",
    "print('MAE', svr_mae)\n"
   ]
  },
  {
   "cell_type": "code",
   "execution_count": 36,
   "id": "1e967eec",
   "metadata": {},
   "outputs": [
    {
     "data": {
      "text/html": [
       "<div>\n",
       "<style scoped>\n",
       "    .dataframe tbody tr th:only-of-type {\n",
       "        vertical-align: middle;\n",
       "    }\n",
       "\n",
       "    .dataframe tbody tr th {\n",
       "        vertical-align: top;\n",
       "    }\n",
       "\n",
       "    .dataframe thead th {\n",
       "        text-align: right;\n",
       "    }\n",
       "</style>\n",
       "<table border=\"1\" class=\"dataframe\">\n",
       "  <thead>\n",
       "    <tr style=\"text-align: right;\">\n",
       "      <th></th>\n",
       "      <th>Open</th>\n",
       "      <th>High</th>\n",
       "      <th>Low</th>\n",
       "      <th>Volume</th>\n",
       "    </tr>\n",
       "  </thead>\n",
       "  <tbody>\n",
       "    <tr>\n",
       "      <th>0</th>\n",
       "      <td>26.299999</td>\n",
       "      <td>26.520000</td>\n",
       "      <td>25.959999</td>\n",
       "      <td>32642100</td>\n",
       "    </tr>\n",
       "    <tr>\n",
       "      <th>1</th>\n",
       "      <td>95.550003</td>\n",
       "      <td>95.739998</td>\n",
       "      <td>94.019997</td>\n",
       "      <td>1826300</td>\n",
       "    </tr>\n",
       "    <tr>\n",
       "      <th>2</th>\n",
       "      <td>54.770000</td>\n",
       "      <td>55.360001</td>\n",
       "      <td>54.590000</td>\n",
       "      <td>5656800</td>\n",
       "    </tr>\n",
       "    <tr>\n",
       "      <th>3</th>\n",
       "      <td>125.589996</td>\n",
       "      <td>125.820000</td>\n",
       "      <td>123.660004</td>\n",
       "      <td>4151600</td>\n",
       "    </tr>\n",
       "    <tr>\n",
       "      <th>4</th>\n",
       "      <td>20.709999</td>\n",
       "      <td>20.809999</td>\n",
       "      <td>20.670000</td>\n",
       "      <td>10489800</td>\n",
       "    </tr>\n",
       "    <tr>\n",
       "      <th>...</th>\n",
       "      <td>...</td>\n",
       "      <td>...</td>\n",
       "      <td>...</td>\n",
       "      <td>...</td>\n",
       "    </tr>\n",
       "    <tr>\n",
       "      <th>10855</th>\n",
       "      <td>51.660000</td>\n",
       "      <td>52.919998</td>\n",
       "      <td>49.919998</td>\n",
       "      <td>87000</td>\n",
       "    </tr>\n",
       "    <tr>\n",
       "      <th>10856</th>\n",
       "      <td>39.549999</td>\n",
       "      <td>40.619999</td>\n",
       "      <td>39.189999</td>\n",
       "      <td>35177200</td>\n",
       "    </tr>\n",
       "    <tr>\n",
       "      <th>10857</th>\n",
       "      <td>22.780001</td>\n",
       "      <td>22.900000</td>\n",
       "      <td>22.389999</td>\n",
       "      <td>9404100</td>\n",
       "    </tr>\n",
       "    <tr>\n",
       "      <th>10858</th>\n",
       "      <td>33.750000</td>\n",
       "      <td>34.060001</td>\n",
       "      <td>33.580002</td>\n",
       "      <td>26179000</td>\n",
       "    </tr>\n",
       "    <tr>\n",
       "      <th>10859</th>\n",
       "      <td>91.010002</td>\n",
       "      <td>91.680000</td>\n",
       "      <td>89.970001</td>\n",
       "      <td>4675300</td>\n",
       "    </tr>\n",
       "  </tbody>\n",
       "</table>\n",
       "<p>10860 rows × 4 columns</p>\n",
       "</div>"
      ],
      "text/plain": [
       "             Open        High         Low    Volume\n",
       "0       26.299999   26.520000   25.959999  32642100\n",
       "1       95.550003   95.739998   94.019997   1826300\n",
       "2       54.770000   55.360001   54.590000   5656800\n",
       "3      125.589996  125.820000  123.660004   4151600\n",
       "4       20.709999   20.809999   20.670000  10489800\n",
       "...           ...         ...         ...       ...\n",
       "10855   51.660000   52.919998   49.919998     87000\n",
       "10856   39.549999   40.619999   39.189999  35177200\n",
       "10857   22.780001   22.900000   22.389999   9404100\n",
       "10858   33.750000   34.060001   33.580002  26179000\n",
       "10859   91.010002   91.680000   89.970001   4675300\n",
       "\n",
       "[10860 rows x 4 columns]"
      ]
     },
     "execution_count": 36,
     "metadata": {},
     "output_type": "execute_result"
    }
   ],
   "source": [
    "import pandas as pd\n",
    "svr_Final = pd.read_csv(\"Downloads/stocknet_tst_data.csv\") \n",
    "svr_Final"
   ]
  },
  {
   "cell_type": "code",
   "execution_count": 37,
   "id": "109ec007",
   "metadata": {},
   "outputs": [],
   "source": [
    "predictions = svr.predict(svr_Final)"
   ]
  },
  {
   "cell_type": "code",
   "execution_count": 38,
   "id": "bb89e243",
   "metadata": {},
   "outputs": [],
   "source": [
    "np.savetxt(\"project_predicted_labels_svr.txt\",prediction, delimiter=\"\\n\", fmt=\"%.6f\")"
   ]
  },
  {
   "cell_type": "markdown",
   "id": "c5913ad4",
   "metadata": {},
   "source": [
    "### We got better results for Linear Regression Compared to other models.Hence we are submitting them as final result."
   ]
  },
  {
   "cell_type": "code",
   "execution_count": null,
   "id": "89142093",
   "metadata": {},
   "outputs": [],
   "source": []
  }
 ],
 "metadata": {
  "kernelspec": {
   "display_name": "Python 3 (ipykernel)",
   "language": "python",
   "name": "python3"
  },
  "language_info": {
   "codemirror_mode": {
    "name": "ipython",
    "version": 3
   },
   "file_extension": ".py",
   "mimetype": "text/x-python",
   "name": "python",
   "nbconvert_exporter": "python",
   "pygments_lexer": "ipython3",
   "version": "3.9.7"
  }
 },
 "nbformat": 4,
 "nbformat_minor": 5
}
